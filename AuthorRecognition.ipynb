{
 "cells": [
  {
   "cell_type": "markdown",
   "metadata": {},
   "source": [
    "### Text Processing for Author Recognition using Spark"
   ]
  },
  {
   "cell_type": "markdown",
   "metadata": {},
   "source": [
    "#### Import statements"
   ]
  },
  {
   "cell_type": "code",
   "execution_count": 44,
   "metadata": {
    "collapsed": true
   },
   "outputs": [],
   "source": [
    "import pyspark as ps    # import the spark suite\n",
    "import warnings         # display warning if spark context already exists\n",
    "import os\n",
    "from pyspark.sql.functions import udf\n",
    "from pyspark.sql.types import ArrayType, StringType, FloatType"
   ]
  },
  {
   "cell_type": "markdown",
   "metadata": {},
   "source": [
    "#### Initialized Spark Context"
   ]
  },
  {
   "cell_type": "code",
   "execution_count": 3,
   "metadata": {
    "collapsed": false
   },
   "outputs": [
    {
     "name": "stdout",
     "output_type": "stream",
     "text": [
      "created SparkContext\n"
     ]
    }
   ],
   "source": [
    "try:\n",
    "    sc = ps.SparkContext('local[4]') # create spark context to work locally on all available cpus\n",
    "    print('created SparkContext')\n",
    "except ValueError:\n",
    "    warnings.warn('SparkContext already exists')    # issue a warning if context already exists"
   ]
  },
  {
   "cell_type": "markdown",
   "metadata": {},
   "source": [
    "### Read data.json into Spark SQL context"
   ]
  },
  {
   "cell_type": "code",
   "execution_count": 4,
   "metadata": {
    "collapsed": false
   },
   "outputs": [
    {
     "name": "stdout",
     "output_type": "stream",
     "text": [
      "created SQLContext\n"
     ]
    }
   ],
   "source": [
    "spark = ps.SQLContext(sc)\n",
    "print('created SQLContext')"
   ]
  },
  {
   "cell_type": "code",
   "execution_count": 5,
   "metadata": {
    "collapsed": false
   },
   "outputs": [],
   "source": [
    "data_file = 'data/data.json'\n",
    "df = spark.read.json(data_file)"
   ]
  },
  {
   "cell_type": "markdown",
   "metadata": {
    "collapsed": true
   },
   "source": [
    "CONSIDER:\n",
    "\n",
    "for fun use RDD and map reduce to remove the double bars I put into the excerpts!"
   ]
  },
  {
   "cell_type": "code",
   "execution_count": 6,
   "metadata": {
    "collapsed": false
   },
   "outputs": [
    {
     "name": "stdout",
     "output_type": "stream",
     "text": [
      "root\n",
      " |-- author: string (nullable = true)\n",
      " |-- excerpt: string (nullable = true)\n",
      " |-- title: string (nullable = true)\n",
      "\n",
      "None\n",
      "9316\n",
      "+--------------+--------------------+---------------+\n",
      "|        author|             excerpt|          title|\n",
      "+--------------+--------------------+---------------+\n",
      "|CharlesDickens|﻿The Project Gute...|AChristmasCarol|\n",
      "|CharlesDickens|Dickens gave his ...|AChristmasCarol|\n",
      "|CharlesDickens|Dickens's greates...|AChristmasCarol|\n",
      "+--------------+--------------------+---------------+\n",
      "only showing top 3 rows\n",
      "\n"
     ]
    }
   ],
   "source": [
    "print df.printSchema()\n",
    "print df.count()\n",
    "df.show(3)"
   ]
  },
  {
   "cell_type": "markdown",
   "metadata": {},
   "source": [
    "### Here we import some sql funtions and give our dataframe a SQL table name"
   ]
  },
  {
   "cell_type": "code",
   "execution_count": 7,
   "metadata": {
    "collapsed": false
   },
   "outputs": [],
   "source": [
    "from pyspark.sql.functions import length\n",
    "from pyspark.sql.functions import count\n",
    "\n",
    "df.createOrReplaceTempView(\"excerpts\")"
   ]
  },
  {
   "cell_type": "code",
   "execution_count": 8,
   "metadata": {
    "collapsed": false
   },
   "outputs": [
    {
     "name": "stdout",
     "output_type": "stream",
     "text": [
      "+--------+\n",
      "|count(1)|\n",
      "+--------+\n",
      "|    2349|\n",
      "+--------+\n",
      "\n"
     ]
    }
   ],
   "source": [
    "sqlDF = spark.sql(\"SELECT count(*) FROM excerpts WHERE author = 'MarkTwain'\")\n",
    "sqlDF.show()"
   ]
  },
  {
   "cell_type": "markdown",
   "metadata": {},
   "source": [
    "### Lambda functions are created to explore the the character count, word count, and average word length"
   ]
  },
  {
   "cell_type": "code",
   "execution_count": 71,
   "metadata": {
    "collapsed": false
   },
   "outputs": [
    {
     "name": "stdout",
     "output_type": "stream",
     "text": [
      "root\n",
      " |-- author: string (nullable = true)\n",
      " |-- excerpt: string (nullable = true)\n",
      " |-- title: string (nullable = true)\n",
      " |-- character_count: float (nullable = true)\n",
      " |-- word_count: float (nullable = true)\n",
      " |-- avg_wordlen: float (nullable = true)\n",
      " |-- sent_count: float (nullable = true)\n",
      " |-- sent_length: float (nullable = true)\n",
      "\n",
      "+--------------+--------------------+---------------+---------------+----------+-----------+----------+-----------+\n",
      "|        author|             excerpt|          title|character_count|word_count|avg_wordlen|sent_count|sent_length|\n",
      "+--------------+--------------------+---------------+---------------+----------+-----------+----------+-----------+\n",
      "|CharlesDickens|﻿The Project Gute...|AChristmasCarol|         1327.0|     221.0|  4.9864254|       9.0|   25.11111|\n",
      "|CharlesDickens|Dickens gave his ...|AChristmasCarol|         2079.0|     356.0|  4.8426967|      14.0|  25.571428|\n",
      "|CharlesDickens|Dickens's greates...|AChristmasCarol|         1341.0|     232.0|  4.7801723|      12.0|       19.5|\n",
      "|CharlesDickens| || ILLUSTRATIONS...|AChristmasCarol|         1406.0|     253.0|   4.549407|      17.0|  15.117647|\n",
      "|CharlesDickens|Scrooge knew he w...|AChristmasCarol|         1373.0|     241.0|   4.701245|      15.0|  16.066668|\n",
      "|CharlesDickens|Oh! but he was a ...|AChristmasCarol|         1685.0|     307.0|  4.4918566|      12.0|  25.583334|\n",
      "|CharlesDickens|But what did Scro...|AChristmasCarol|         1708.0|     310.0|   4.512903|      12.0|  25.833334|\n",
      "|CharlesDickens|\"A merry Christma...|AChristmasCarol|         1651.0|     297.0|  4.5622897|      13.0|  23.076923|\n",
      "|CharlesDickens|\"Uncle!\" pleaded ...|AChristmasCarol|         1169.0|     217.0|   4.391705|       8.0|     27.375|\n",
      "|CharlesDickens|The clerk in the ...|AChristmasCarol|         1142.0|     200.0|      4.715|      16.0|    12.6875|\n",
      "+--------------+--------------------+---------------+---------------+----------+-----------+----------+-----------+\n",
      "only showing top 10 rows\n",
      "\n"
     ]
    }
   ],
   "source": [
    "def char_count(text):\n",
    "    return len(text)\n",
    "\n",
    "def word_count(text):\n",
    "    return len(text.split())\n",
    "\n",
    "def avg_word_length(text):\n",
    "    return sum([len(t) for t in text.split()]) / float(len(text.split()))\n",
    "\n",
    "def sentence_count(text):\n",
    "    return len(text.split('.'))\n",
    "\n",
    "def sentence_length(text):\n",
    "    return sum([len(t.split()) for t in text.split('.')]) / float(len(text.split('.'))) \n",
    "\n",
    "charcount_udf = udf(lambda x : char_count(x))\n",
    "wordcount_udf = udf(lambda x: word_count(x))\n",
    "avgwordlen_udf = udf(lambda x: avg_word_length(x))\n",
    "sentencecount_udf = udf(lambda x: sentence_count(x))\n",
    "sentencelength_udf = udf(lambda x: sentence_length(x))\n",
    "\n",
    "df2 = df.withColumn(\"character_count\", charcount_udf(df.excerpt).cast(FloatType())) \\\n",
    "        .withColumn(\"word_count\", wordcount_udf(df.excerpt).cast(FloatType())) \\\n",
    "        .withColumn(\"avg_wordlen\", avgwordlen_udf(df.excerpt).cast(FloatType())) \\\n",
    "        .withColumn(\"sent_count\", sentencecount_udf(df.excerpt).cast(FloatType())) \\\n",
    "        .withColumn(\"sent_length\", sentencelength_udf(df.excerpt).cast(FloatType()))\n",
    "\n",
    "df2.printSchema()\n",
    "df2.show(10)"
   ]
  },
  {
   "cell_type": "code",
   "execution_count": 72,
   "metadata": {
    "collapsed": false
   },
   "outputs": [
    {
     "name": "stdout",
     "output_type": "stream",
     "text": [
      "+--------------+-----------------+------------------+------------------+\n",
      "|        author| avg(avg_wordlen)|   avg(word_count)|  avg(sent_length)|\n",
      "+--------------+-----------------+------------------+------------------+\n",
      "|     MarkTwain|4.474236786238636| 282.8884631758195| 24.85891974672656|\n",
      "|      JohnMuir|4.701099736578512| 318.5234899328859|26.460818235772834|\n",
      "|    JaneAusten|4.569085557100668| 271.3512075317233|  21.8411577078733|\n",
      "|CharlesDickens|4.439227707129865|246.16694214876034| 21.05933634269336|\n",
      "+--------------+-----------------+------------------+------------------+\n",
      "\n"
     ]
    }
   ],
   "source": [
    "df2.createOrReplaceTempView(\"excerpts\")\n",
    "sqlDF = spark.sql(\"SELECT author, AVG(avg_wordlen), AVG(word_count), AVG(sent_length) FROM excerpts GROUP BY author\")\n",
    "sqlDF.show()"
   ]
  },
  {
   "cell_type": "code",
   "execution_count": null,
   "metadata": {
    "collapsed": true
   },
   "outputs": [],
   "source": []
  }
 ],
 "metadata": {
  "anaconda-cloud": {},
  "kernelspec": {
   "display_name": "Python 2",
   "language": "python",
   "name": "python2"
  },
  "language_info": {
   "codemirror_mode": {
    "name": "ipython",
    "version": 2
   },
   "file_extension": ".py",
   "mimetype": "text/x-python",
   "name": "python",
   "nbconvert_exporter": "python",
   "pygments_lexer": "ipython2",
   "version": "2.7.12"
  }
 },
 "nbformat": 4,
 "nbformat_minor": 0
}
