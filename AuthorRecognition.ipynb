{
 "cells": [
  {
   "cell_type": "markdown",
   "metadata": {},
   "source": [
    "### Text Processing for Author Recognition using Spark"
   ]
  },
  {
   "cell_type": "markdown",
   "metadata": {},
   "source": [
    "#### Import statements"
   ]
  },
  {
   "cell_type": "code",
   "execution_count": 74,
   "metadata": {
    "collapsed": true
   },
   "outputs": [],
   "source": [
    "import pyspark as ps    # import the spark suite\n",
    "import warnings         # display warning if spark context already exists\n",
    "import os\n",
    "from pyspark.sql.functions import udf\n",
    "from pyspark.sql.types import ArrayType, StringType, FloatType\n",
    "import string\n",
    "from nltk.corpus import stopwords\n",
    "from nltk.tokenize import word_tokenize"
   ]
  },
  {
   "cell_type": "markdown",
   "metadata": {},
   "source": [
    "#### Initialized Spark Context"
   ]
  },
  {
   "cell_type": "code",
   "execution_count": 3,
   "metadata": {
    "collapsed": false
   },
   "outputs": [
    {
     "name": "stdout",
     "output_type": "stream",
     "text": [
      "created SparkContext\n"
     ]
    }
   ],
   "source": [
    "try:\n",
    "    sc = ps.SparkContext('local[4]') # create spark context to work locally on all available cpus\n",
    "    print('created SparkContext')\n",
    "except ValueError:\n",
    "    warnings.warn('SparkContext already exists')    # issue a warning if context already exists"
   ]
  },
  {
   "cell_type": "markdown",
   "metadata": {},
   "source": [
    "### Read data.json into Spark SQL context"
   ]
  },
  {
   "cell_type": "code",
   "execution_count": 4,
   "metadata": {
    "collapsed": false
   },
   "outputs": [
    {
     "name": "stdout",
     "output_type": "stream",
     "text": [
      "created SQLContext\n"
     ]
    }
   ],
   "source": [
    "spark = ps.SQLContext(sc)\n",
    "print('created SQLContext')"
   ]
  },
  {
   "cell_type": "code",
   "execution_count": 5,
   "metadata": {
    "collapsed": false
   },
   "outputs": [],
   "source": [
    "data_file = 'data/data.json'\n",
    "df = spark.read.json(data_file)"
   ]
  },
  {
   "cell_type": "markdown",
   "metadata": {
    "collapsed": true
   },
   "source": [
    "CONSIDER:\n",
    "\n",
    "for fun use RDD and map reduce to remove the double bars I put into the excerpts!"
   ]
  },
  {
   "cell_type": "code",
   "execution_count": 6,
   "metadata": {
    "collapsed": false
   },
   "outputs": [
    {
     "name": "stdout",
     "output_type": "stream",
     "text": [
      "root\n",
      " |-- author: string (nullable = true)\n",
      " |-- excerpt: string (nullable = true)\n",
      " |-- title: string (nullable = true)\n",
      "\n",
      "None\n",
      "9316\n",
      "+--------------+--------------------+---------------+\n",
      "|        author|             excerpt|          title|\n",
      "+--------------+--------------------+---------------+\n",
      "|CharlesDickens|﻿The Project Gute...|AChristmasCarol|\n",
      "|CharlesDickens|Dickens gave his ...|AChristmasCarol|\n",
      "|CharlesDickens|Dickens's greates...|AChristmasCarol|\n",
      "+--------------+--------------------+---------------+\n",
      "only showing top 3 rows\n",
      "\n"
     ]
    }
   ],
   "source": [
    "print df.printSchema()\n",
    "print df.count()\n",
    "df.show(3)"
   ]
  },
  {
   "cell_type": "markdown",
   "metadata": {},
   "source": [
    "### Here we import some sql funtions and give our dataframe a SQL table name"
   ]
  },
  {
   "cell_type": "code",
   "execution_count": 7,
   "metadata": {
    "collapsed": false
   },
   "outputs": [],
   "source": [
    "from pyspark.sql.functions import length\n",
    "from pyspark.sql.functions import count\n",
    "\n",
    "df.createOrReplaceTempView(\"excerpts\")"
   ]
  },
  {
   "cell_type": "code",
   "execution_count": 8,
   "metadata": {
    "collapsed": false
   },
   "outputs": [
    {
     "name": "stdout",
     "output_type": "stream",
     "text": [
      "+--------+\n",
      "|count(1)|\n",
      "+--------+\n",
      "|    2349|\n",
      "+--------+\n",
      "\n"
     ]
    }
   ],
   "source": [
    "sqlDF = spark.sql(\"SELECT count(*) FROM excerpts WHERE author = 'MarkTwain'\")\n",
    "sqlDF.show()"
   ]
  },
  {
   "cell_type": "markdown",
   "metadata": {},
   "source": [
    "### Lambda functions are created to explore the the character count, word count, and average word length and then add them to the dataframe."
   ]
  },
  {
   "cell_type": "code",
   "execution_count": 129,
   "metadata": {
    "collapsed": true
   },
   "outputs": [],
   "source": [
    "def char_count(text):\n",
    "    return len(text)\n",
    "\n",
    "def word_count(text):\n",
    "    return len(text.split())\n",
    "\n",
    "def avg_word_length(text):\n",
    "    return sum([len(t) for t in text.split()]) / float(len(text.split()))\n",
    "\n",
    "def sentence_count(text):\n",
    "    return len(text.split('.'))\n",
    "\n",
    "def sentence_length(text):\n",
    "    return sum([len(t.split()) for t in text.split('.')]) / float(len(text.split('.'))) \n",
    "\n",
    "def tokenize_excerpt(text):\n",
    "    stops = set(stopwords.words('english'))  # get a set of english stop words\n",
    "    unpunctuated_text = text.translate(None, string.punctuation)  # remove punctuation\n",
    "    tokens = word_tokenize(unpunctuated_text)  # tokenize\n",
    "    cleaned_tokens = [t.lower() for t in tokens if t.lower() not in stops]  # remove stopwords, lowercase everything\n",
    "    return cleaned_tokens\n",
    "\n",
    "def avg_word_length2(tokens):\n",
    "    return sum([len(t) for t in tokens])\n",
    "#     return sum([len(t) for t in tokens]) / float(len(tokens))\n",
    "#     return sum([len(t) for t in text.split()]) / float(len(text.split()))"
   ]
  },
  {
   "cell_type": "code",
   "execution_count": 130,
   "metadata": {
    "collapsed": false
   },
   "outputs": [
    {
     "name": "stdout",
     "output_type": "stream",
     "text": [
      "root\n",
      " |-- author: string (nullable = true)\n",
      " |-- excerpt: string (nullable = true)\n",
      " |-- title: string (nullable = true)\n",
      " |-- character_count: float (nullable = true)\n",
      " |-- word_count: float (nullable = true)\n",
      " |-- avg_wordlen: float (nullable = true)\n",
      " |-- sent_count: float (nullable = true)\n",
      " |-- sent_length: float (nullable = true)\n",
      " |-- tokenized: string (nullable = true)\n",
      " |-- w2: float (nullable = true)\n",
      "\n"
     ]
    }
   ],
   "source": [
    "charcount_udf = udf(lambda x : char_count(x))\n",
    "wordcount_udf = udf(lambda x: word_count(x))\n",
    "avgwordlen_udf = udf(lambda x: avg_word_length(x))\n",
    "sentencecount_udf = udf(lambda x: sentence_count(x))\n",
    "sentencelength_udf = udf(lambda x: sentence_length(x))\n",
    "tokenize_udf = udf(lambda x: tokenize_excerpt(x))\n",
    "wordlen2_udf = udf(lambda x: avg_word_length2(x))\n",
    "\n",
    "df2 = df.withColumn(\"character_count\", charcount_udf(df.excerpt).cast(FloatType())) \\\n",
    "        .withColumn(\"word_count\", wordcount_udf(df.excerpt).cast(FloatType())) \\\n",
    "        .withColumn(\"avg_wordlen\", avgwordlen_udf(df.excerpt).cast(FloatType())) \\\n",
    "        .withColumn(\"sent_count\", sentencecount_udf(df.excerpt).cast(FloatType())) \\\n",
    "        .withColumn(\"sent_length\", sentencelength_udf(df.excerpt).cast(FloatType())) \\\n",
    "        .withColumn(\"tokenized\", tokenize_udf(df.excerpt))\n",
    "    \n",
    "df3 = df2.withColumn(\"w2\", wordlen2_udf(df.excerpt).cast(FloatType()))\n",
    "df3.printSchema()\n",
    "# df2.show(10)\n",
    "# df2.take(1)"
   ]
  },
  {
   "cell_type": "code",
   "execution_count": 131,
   "metadata": {
    "collapsed": false
   },
   "outputs": [
    {
     "name": "stdout",
     "output_type": "stream",
     "text": [
      "+--------------+-----------------+------------------+------------------+------------------+\n",
      "|        author| avg(avg_wordlen)|   avg(word_count)|  avg(sent_length)|           avg(w2)|\n",
      "+--------------+-----------------+------------------+------------------+------------------+\n",
      "|     MarkTwain|4.474236786238636| 282.8884631758195| 24.85891974672656|1549.4584929757343|\n",
      "|      JohnMuir|4.701099736578512| 318.5234899328859|26.460818235772834| 1810.383668903803|\n",
      "|    JaneAusten|4.569085557100668| 271.3512075317233|  21.8411577078733|1510.6054031927958|\n",
      "|CharlesDickens|4.439227707129865|246.16694214876034| 21.05933634269336|1338.9944903581268|\n",
      "+--------------+-----------------+------------------+------------------+------------------+\n",
      "\n"
     ]
    }
   ],
   "source": [
    "df3.createOrReplaceTempView(\"excerpts\")\n",
    "# sqlDF = spark.sql(\"SELECT author, AVG(avg_wordlen), AVG(word_count), AVG(sent_length) FROM excerpts GROUP BY author\")\n",
    "sqlDF = spark.sql(\"SELECT author, AVG(avg_wordlen), AVG(word_count), AVG(sent_length), AVG(w2) FROM excerpts GROUP BY author\")\n",
    "sqlDF.show(20)"
   ]
  },
  {
   "cell_type": "code",
   "execution_count": null,
   "metadata": {
    "collapsed": true
   },
   "outputs": [],
   "source": []
  }
 ],
 "metadata": {
  "anaconda-cloud": {},
  "kernelspec": {
   "display_name": "Python 2",
   "language": "python",
   "name": "python2"
  },
  "language_info": {
   "codemirror_mode": {
    "name": "ipython",
    "version": 2
   },
   "file_extension": ".py",
   "mimetype": "text/x-python",
   "name": "python",
   "nbconvert_exporter": "python",
   "pygments_lexer": "ipython2",
   "version": "2.7.12"
  }
 },
 "nbformat": 4,
 "nbformat_minor": 0
}
